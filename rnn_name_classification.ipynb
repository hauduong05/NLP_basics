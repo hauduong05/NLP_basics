{
  "nbformat": 4,
  "nbformat_minor": 0,
  "metadata": {
    "colab": {
      "name": "rnn_name_classification.ipynb",
      "provenance": [],
      "authorship_tag": "ABX9TyP4GeXwsbkTj/nSElkGGyTV",
      "include_colab_link": true
    },
    "kernelspec": {
      "name": "python3",
      "display_name": "Python 3"
    },
    "accelerator": "GPU"
  },
  "cells": [
    {
      "cell_type": "markdown",
      "metadata": {
        "id": "view-in-github",
        "colab_type": "text"
      },
      "source": [
        "<a href=\"https://colab.research.google.com/github/hauduong05/NLP_basics/blob/main/rnn_name_classification.ipynb\" target=\"_parent\"><img src=\"https://colab.research.google.com/assets/colab-badge.svg\" alt=\"Open In Colab\"/></a>"
      ]
    },
    {
      "cell_type": "code",
      "metadata": {
        "colab": {
          "base_uri": "https://localhost:8080/"
        },
        "id": "xqdkpnT77R-b",
        "outputId": "e0b9ee71-07d4-4f51-8847-a33c39a71338"
      },
      "source": [
        "from google.colab import drive\n",
        "drive.mount('/content/drive')"
      ],
      "execution_count": 2,
      "outputs": [
        {
          "output_type": "stream",
          "name": "stdout",
          "text": [
            "Mounted at /content/drive\n"
          ]
        }
      ]
    },
    {
      "cell_type": "code",
      "metadata": {
        "colab": {
          "base_uri": "https://localhost:8080/"
        },
        "id": "stMsRJc97YeR",
        "outputId": "d2be164a-468c-49a5-f928-e2f74aaa855e"
      },
      "source": [
        "cd /content/drive/MyDrive/datasets"
      ],
      "execution_count": 3,
      "outputs": [
        {
          "output_type": "stream",
          "name": "stdout",
          "text": [
            "/content/drive/MyDrive/datasets\n"
          ]
        }
      ]
    },
    {
      "cell_type": "code",
      "metadata": {
        "id": "dq9sLvU1xv0w"
      },
      "source": [
        "import os\n",
        "import io\n",
        "import glob\n",
        "import torch\n",
        "import random\n",
        "import unicodedata\n",
        "import string\n",
        "import torch\n",
        "import torch.nn as nn\n",
        "import matplotlib.pyplot as plt"
      ],
      "execution_count": 4,
      "outputs": []
    },
    {
      "cell_type": "code",
      "metadata": {
        "id": "PFT4KKW8x1r3"
      },
      "source": [
        "# prepare data\n",
        "\n",
        "ALL_LETTERS = string.ascii_letters + \" ,.;'\"\n",
        "N_LETTERS = len(ALL_LETTERS)\n",
        "\n",
        "# transform data to ascii\n",
        "def unicode_to_ascii(s):\n",
        "    return ''.join(\n",
        "        c for c in unicodedata.normalize('NFKD', s)\n",
        "        if unicodedata.category(c) != 'Mn'\n",
        "        and c in ALL_LETTERS\n",
        "    )\n",
        "\n",
        "# load data to all categories and all lines in each category\n",
        "def load_data():\n",
        "    all_categories = []\n",
        "    category_lines = {}\n",
        "\n",
        "    def find_files(path):\n",
        "        return glob.glob(path)\n",
        "\n",
        "    def read_lines(filename):\n",
        "        lines = io.open(filename, encoding='utf-8').read().strip().split('\\n')\n",
        "        return [unicode_to_ascii(line) for line in lines]\n",
        "\n",
        "    for filename in find_files('names/*.txt'):\n",
        "        lines = read_lines(filename)\n",
        "        category = os.path.splitext(os.path.basename(filename))[0]\n",
        "        all_categories.append(category)\n",
        "        category_lines[category] = lines\n",
        "    return all_categories, category_lines\n",
        "\n",
        "\n",
        "def letter_to_index(letter):\n",
        "    return ALL_LETTERS.find(letter)\n",
        "\n",
        "\n",
        "def letter_to_tensor(letter):\n",
        "    tensor = torch.zeros(1, N_LETTERS)\n",
        "    tensor[0][letter_to_index(letter)] = 1\n",
        "    return tensor\n",
        "\n",
        "\n",
        "def line_to_tensor(line):\n",
        "    tensor = torch.zeros(len(line), 1, N_LETTERS)\n",
        "    for i, letter in enumerate(line):\n",
        "        tensor[i][0][letter_to_index(letter)] = 1\n",
        "    return tensor\n",
        "\n",
        "# radom example to train\n",
        "def random_training_example(all_categories, category_lines):\n",
        "    def random_choice(a):\n",
        "        idx = random.randint(0, len(a) - 1)\n",
        "        return a[idx]\n",
        "\n",
        "    category = random_choice(all_categories)\n",
        "    line = random_choice(category_lines[category])\n",
        "    category_tensor = torch.tensor([all_categories.index(category)], dtype=torch.long)\n",
        "    line_tensor = line_to_tensor(line)\n",
        "    return category, line, category_tensor, line_tensor"
      ],
      "execution_count": 8,
      "outputs": []
    },
    {
      "cell_type": "code",
      "metadata": {
        "id": "BQ3CcY9bXgwB"
      },
      "source": [
        "class RNN(nn.Module):\n",
        "    def __init__(self, input_size, hidden_size, output_size):\n",
        "        super(RNN, self).__init__()\n",
        "        self.hidden_size = hidden_size\n",
        "        self.hidden = nn.Linear(input_size + self.hidden_size, self.hidden_size)\n",
        "        self.output = nn.Linear(input_size + self.hidden_size, output_size)\n",
        "        self.softmax = nn.LogSoftmax(dim=1)\n",
        "\n",
        "    def init_hidden(self):\n",
        "        return torch.zeros(1, self.hidden_size)\n",
        "\n",
        "    def forward(self, input_tensor, hidden_tensor):\n",
        "        combined = torch.cat((input_tensor, hidden_tensor), 1)\n",
        "        hidden = self.hidden(combined)\n",
        "        output = self.output(combined)\n",
        "        output = self.softmax(output)\n",
        "        return output, hidden"
      ],
      "execution_count": 7,
      "outputs": []
    },
    {
      "cell_type": "code",
      "metadata": {
        "id": "gEbG3w40XquJ"
      },
      "source": [
        "all_categories, category_lines = load_data()\n",
        "n_categories = len(all_categories)\n",
        "hidden_size = 128\n",
        "\n",
        "rnn = RNN(N_LETTERS, hidden_size, n_categories)\n",
        "criterion = nn.NLLLoss()\n",
        "learning_rate = 0.005\n",
        "optimizer = torch.optim.SGD(rnn.parameters(), lr=learning_rate)"
      ],
      "execution_count": 9,
      "outputs": []
    },
    {
      "cell_type": "code",
      "metadata": {
        "colab": {
          "base_uri": "https://localhost:8080/"
        },
        "id": "xiDJ7fSREtCj",
        "outputId": "3ed794f2-dff2-41f3-c836-d154d7ebea84"
      },
      "source": [
        "# train\n",
        "\n",
        "def train(line_tensor, category_tensor):\n",
        "    hidden = rnn.init_hidden()\n",
        "    for i in range(line_tensor.size()[0]):\n",
        "        output, hidden = rnn(line_tensor[i], hidden)\n",
        "\n",
        "    loss = criterion(output, category_tensor)\n",
        "    loss.backward()\n",
        "    optimizer.step()\n",
        "    optimizer.zero_grad()\n",
        "    return output, loss.item()\n",
        "\n",
        "\n",
        "def category_from_output(output):\n",
        "    idx = torch.argmax(output).item()\n",
        "    return all_categories[idx]\n",
        "\n",
        "\n",
        "current_loss = 0\n",
        "all_loss = []\n",
        "plot_step, print_step = 1000, 5000\n",
        "n_iters = 100000\n",
        "\n",
        "for i in range(n_iters):\n",
        "    category, line, category_tensor, line_tensor = random_training_example(all_categories, category_lines)\n",
        "    output, loss = train(line_tensor, category_tensor)\n",
        "    current_loss += loss\n",
        "\n",
        "    if (i + 1) % plot_step == 0:\n",
        "        all_loss.append(current_loss / plot_step)\n",
        "        current_loss = 0\n",
        "\n",
        "    if (i + 1) % print_step == 0:\n",
        "        guess = category_from_output(output)\n",
        "        print(f' loss = {loss:.4f}, correct = {category} - guess = {guess}')"
      ],
      "execution_count": 10,
      "outputs": [
        {
          "output_type": "stream",
          "name": "stdout",
          "text": [
            " loss = 3.0232, correct = Arabic - guess = Irish\n",
            " loss = 2.9627, correct = German - guess = Portuguese\n",
            " loss = 3.5928, correct = Russian - guess = Portuguese\n",
            " loss = 0.8909, correct = Vietnamese - guess = Vietnamese\n",
            " loss = 3.8667, correct = Scottish - guess = Korean\n",
            " loss = 1.7651, correct = Scottish - guess = Scottish\n",
            " loss = 2.4414, correct = Spanish - guess = Dutch\n",
            " loss = 1.0434, correct = Arabic - guess = Arabic\n",
            " loss = 1.4224, correct = Irish - guess = Irish\n",
            " loss = 3.0149, correct = English - guess = Czech\n",
            " loss = 1.3114, correct = Vietnamese - guess = Chinese\n",
            " loss = 3.0538, correct = Italian - guess = French\n",
            " loss = 1.4318, correct = Italian - guess = Spanish\n",
            " loss = 2.6904, correct = French - guess = Vietnamese\n",
            " loss = 1.6570, correct = Japanese - guess = French\n",
            " loss = 1.9288, correct = Chinese - guess = Korean\n",
            " loss = 0.7578, correct = Czech - guess = Czech\n",
            " loss = 1.5353, correct = Polish - guess = Czech\n",
            " loss = 0.8857, correct = Italian - guess = Italian\n",
            " loss = 0.4948, correct = Czech - guess = Czech\n"
          ]
        }
      ]
    },
    {
      "cell_type": "code",
      "metadata": {
        "colab": {
          "base_uri": "https://localhost:8080/",
          "height": 265
        },
        "id": "Apfj_umfX17S",
        "outputId": "3253c3ad-3ceb-44c1-83ba-249d71892a9a"
      },
      "source": [
        "# plot training loss\n",
        "\n",
        "plt.figure()\n",
        "plt.plot(all_loss)\n",
        "plt.show()"
      ],
      "execution_count": 11,
      "outputs": [
        {
          "output_type": "display_data",
          "data": {
            "image/png": "[encoded data removed]",
            "text/plain": [
              "<Figure size 432x288 with 1 Axes>"
            ]
          },
          "metadata": {
            "needs_background": "light"
          }
        }
      ]
    },
    {
      "cell_type": "code",
      "metadata": {
        "colab": {
          "base_uri": "https://localhost:8080/"
        },
        "id": "on49mhrqX4V5",
        "outputId": "2877145f-6725-47e2-fd9d-ef8723048ecb"
      },
      "source": [
        "# predict \n",
        "\n",
        "def predict(input_line):\n",
        "    print(input_line)\n",
        "    with torch.no_grad():\n",
        "        line_tensor = line_to_tensor(input_line)\n",
        "        hidden = rnn.init_hidden()\n",
        "        for i in range(line_tensor.size()[0]):\n",
        "            output, hidden = rnn(line_tensor[i], hidden)\n",
        "        guess = category_from_output(output)\n",
        "        print(guess)\n",
        "\n",
        "while True:\n",
        "    inp = input(\"Input : \")\n",
        "    if inp == 'break':\n",
        "        break\n",
        "    predict(inp)"
      ],
      "execution_count": 12,
      "outputs": [
        {
          "name": "stdout",
          "output_type": "stream",
          "text": [
            "Input : Nguyen\n",
            "Nguyen\n",
            "Vietnamese\n",
            "Input : Yong\n",
            "Yong\n",
            "Korean\n",
            "Input : Zhang\n",
            "Zhang\n",
            "Chinese\n",
            "Input : break\n"
          ]
        }
      ]
    }
  ]
}