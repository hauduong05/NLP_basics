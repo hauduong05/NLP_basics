{
  "nbformat": 4,
  "nbformat_minor": 0,
  "metadata": {
    "accelerator": "GPU",
    "colab": {
      "name": "word_embedding.ipynb",
      "provenance": [],
      "authorship_tag": "ABX9TyN3jcGacfkHR772pye7ecIz",
      "include_colab_link": true
    },
    "kernelspec": {
      "display_name": "Python 3",
      "name": "python3"
    }
  },
  "cells": [
    {
      "cell_type": "markdown",
      "metadata": {
        "id": "view-in-github",
        "colab_type": "text"
      },
      "source": [
        "<a href=\"https://colab.research.google.com/github/hauduong05/NLP_basics/blob/main/word_embedding.ipynb\" target=\"_parent\"><img src=\"https://colab.research.google.com/assets/colab-badge.svg\" alt=\"Open In Colab\"/></a>"
      ]
    },
    {
      "cell_type": "code",
      "metadata": {
        "colab": {
          "base_uri": "https://localhost:8080/"
        },
        "id": "s-kCVwi4qVw2",
        "outputId": "e764a01f-8e00-4847-832f-4fb3fffe55b3"
      },
      "source": [
        "from google.colab import drive\n",
        "drive.mount('/content/drive')"
      ],
      "execution_count": 1,
      "outputs": [
        {
          "output_type": "stream",
          "name": "stdout",
          "text": [
            "Mounted at /content/drive\n"
          ]
        }
      ]
    },
    {
      "cell_type": "code",
      "metadata": {
        "colab": {
          "base_uri": "https://localhost:8080/"
        },
        "id": "AMcpzBwFYUwF",
        "outputId": "1ce8f076-0d6e-44e9-b5ec-bc825b3bd2c6"
      },
      "source": [
        "cd /content/drive/MyDrive/datasets/"
      ],
      "execution_count": 2,
      "outputs": [
        {
          "output_type": "stream",
          "name": "stdout",
          "text": [
            "/content/drive/MyDrive/datasets\n"
          ]
        }
      ]
    },
    {
      "cell_type": "code",
      "metadata": {
        "id": "1bR4qypFZgyr"
      },
      "source": [
        "pip install pyvi"
      ],
      "execution_count": null,
      "outputs": []
    },
    {
      "cell_type": "code",
      "metadata": {
        "id": "47GWKMbxZI4F"
      },
      "source": [
        "from pyvi import ViTokenizer\n",
        "from scipy.sparse import coo_matrix\n",
        "import nltk\n",
        "from nltk.corpus import gutenberg\n",
        "from gensim.test.utils import datapath, get_tmpfile\n",
        "from gensim.models import KeyedVectors, Word2Vec\n",
        "from gensim.scripts.glove2word2vec import glove2word2vec\n",
        "import numpy as np\n",
        "import pandas as pd\n",
        "from sklearn.decomposition import PCA\n",
        "import matplotlib.pyplot as plt\n",
        "import scipy.linalg as ln"
      ],
      "execution_count": 4,
      "outputs": []
    },
    {
      "cell_type": "code",
      "metadata": {
        "id": "4H2yw_f-ZlUD"
      },
      "source": [
        "# one-hot encoding\n",
        "\n",
        "def one_hot(words):\n",
        "    return pd.get_dummies(words).values"
      ],
      "execution_count": 5,
      "outputs": []
    },
    {
      "cell_type": "code",
      "metadata": {
        "id": "9OBv77IB43Ux"
      },
      "source": [
        "def svd(mat, k, n):\n",
        "    U, S_diag, V = ln.svd(mat)\n",
        "    S_truncate = np.zeros((k, n))\n",
        "    np.fill_diagonal(S_truncate, S_diag[:k])\n",
        "    return S_truncate @ V"
      ],
      "execution_count": 6,
      "outputs": []
    },
    {
      "cell_type": "code",
      "metadata": {
        "id": "-EkYPRWo44Md"
      },
      "source": [
        "def word2vec(sentences):\n",
        "  md = Word2Vec(sentences, vector_size=150, min_count=1, window=10, sg=1, workers=8)\n",
        "  md.train(sentences, total_examples=md.corpus_count, epochs=10)\n",
        "  return md"
      ],
      "execution_count": 7,
      "outputs": []
    },
    {
      "cell_type": "code",
      "metadata": {
        "id": "p91cspcV47JG"
      },
      "source": [
        "def analogy(x1, x2, y1, model):\n",
        "    result = model.most_similar(positive=[x2, y1], negative=[x1])\n",
        "    return result[0][0]\n",
        "\n",
        "\n",
        "def display(model, words=None, sample=0):\n",
        "    if words == None:\n",
        "        if sample > 0:\n",
        "            words = np.random.choice(list(model.index_to_key), sample)\n",
        "        else:\n",
        "            words = [word for word in model.vocab]\n",
        "\n",
        "    words_vector = [model[w] for w in words]\n",
        "    pca = PCA(n_components=2)\n",
        "    twodim = pca.fit_transform(words_vector)\n",
        "\n",
        "    plt.figure(figsize=(6,6))\n",
        "    plt.scatter(twodim[:, 0], twodim[:, 1], edgecolors='k', c='r')\n",
        "    for word, (x, y) in zip(words, twodim):\n",
        "        plt.text(x+0.05, y+0.05, word)"
      ],
      "execution_count": 8,
      "outputs": []
    },
    {
      "cell_type": "code",
      "metadata": {
        "colab": {
          "base_uri": "https://localhost:8080/"
        },
        "id": "QBA5zDY248wN",
        "outputId": "0f070b6f-2254-4aef-f881-780742b9934b"
      },
      "source": [
        "# text use for one-hot encoding and svd\n",
        "\n",
        "text = 'Khoa học dữ liệu là một môn học rất thú vị. Em rất yêu thích Khoa học dữ liệu'\n",
        "words = ViTokenizer.tokenize(text).split()\n",
        "n = len(set(words))\n",
        "row = [0, 0, 1, 1, 2, 2, 3, 3, 4, 4, 5, 5, 5, 5, 6, 6, 7, 7, 8, 8, 9, 9, 10, 10]\n",
        "col = [1, 10, 0, 2, 1, 3, 2, 4, 3, 5, 4, 6, 8, 9, 5, 7, 6, 8, 7, 5, 5, 10, 9, 0]\n",
        "value = [2, 1, 2, 1, 1, 1, 1, 1, 1, 1, 1, 1, 1, 1, 1, 1, 1, 1, 1, 1, 1, 1, 1, 1]\n",
        "mat = coo_matrix((value, (row, col)), shape=(11, 11)).toarray()\n",
        "\n",
        "# text use for word2vec\n",
        "\n",
        "nltk.download('gutenberg')\n",
        "nltk.download('punkt')\n",
        "norm_bible = gutenberg.sents('bible-kjv.txt')\n",
        "norm_bible = [' '.join(doc) for doc in norm_bible]\n",
        "sentences = [[item.lower() for item in doc.split()] for doc in norm_bible[:2000]]\n",
        "\n",
        "# text use for glove\n",
        "\n",
        "glove_file= datapath('C:/Users/HauDC/Downloads/glove.6B.100d.txt')\n",
        "word2vec_glove_file = get_tmpfile('glove.6B.100d.word2vec.txt')\n",
        "glove2word2vec('glove.6B.100d.txt', word2vec_glove_file)\n",
        "model = KeyedVectors.load_word2vec_format(word2vec_glove_file)\n",
        "model.save('glove.model')\n",
        "model = KeyedVectors.load('glove.model')\n"
      ],
      "execution_count": 10,
      "outputs": [
        {
          "output_type": "stream",
          "name": "stdout",
          "text": [
            "[nltk_data] Downloading package gutenberg to /root/nltk_data...\n",
            "[nltk_data]   Package gutenberg is already up-to-date!\n",
            "[nltk_data] Downloading package punkt to /root/nltk_data...\n",
            "[nltk_data]   Package punkt is already up-to-date!\n"
          ]
        }
      ]
    },
    {
      "cell_type": "code",
      "metadata": {
        "colab": {
          "base_uri": "https://localhost:8080/",
          "height": 530
        },
        "id": "RjT3XDk35ZMu",
        "outputId": "d6d285ba-f91e-4d2d-ab9f-a0682a6cdb60"
      },
      "source": [
        "inp = input()\n",
        "\n",
        "if inp == 'onehot':\n",
        "    print(one_hot(words))\n",
        "\n",
        "if inp == 'svd':\n",
        "    k = int(input())\n",
        "    print(svd(mat, k, n))\n",
        "\n",
        "if inp == 'word2vec':\n",
        "    md = word2vec(sentences)\n",
        "    print(md.wv.most_similar('king'))\n",
        "\n",
        "if inp == 'glove':\n",
        "    print(model.most_similar('obama'))\n",
        "    print(model.most_similar('banana'))\n",
        "    print(analogy('japan', 'japanese', 'australia', model))\n",
        "    print(analogy('tall', 'tallest', 'long', model))\n",
        "    print(model.doesnt_match('breakfast cereal lunch dinner'.split()))\n",
        "    display(model, ['coffee', 'tea', 'beer', 'wine', 'brandy', 'rum', 'champagne', 'water',\n",
        "                    'spaghetti', 'borscht', 'hamburger', 'pizza', 'falafel', 'sushi', 'meatballs',\n",
        "                    'dog', 'horse', 'cat', 'monkey', 'parrot', 'koala', 'lizard',\n",
        "                    'frog', 'toad', 'monkey', 'ape', 'kangaroo', 'wombat', 'wolf',\n",
        "                    'france', 'germany', 'hungary', 'luxembourg', 'australia', 'fiji', 'china',\n",
        "                    'homework', 'assignment', 'problem', 'exam', 'test', 'class',\n",
        "                    'school', 'college', 'university', 'institute'])\n",
        "    \n",
        "    plt.show()"
      ],
      "execution_count": 13,
      "outputs": [
        {
          "output_type": "stream",
          "name": "stdout",
          "text": [
            "glove\n",
            "[('barack', 0.937216579914093), ('bush', 0.927285373210907), ('clinton', 0.8960003852844238), ('mccain', 0.8875633478164673), ('gore', 0.8000321388244629), ('hillary', 0.7933663129806519), ('dole', 0.7851964235305786), ('rodham', 0.751889705657959), ('romney', 0.7488929629325867), ('kerry', 0.7472623586654663)]\n",
            "[('coconut', 0.7097253799438477), ('mango', 0.7054824233055115), ('bananas', 0.6887733936309814), ('potato', 0.6629636287689209), ('pineapple', 0.6534532904624939), ('fruit', 0.6519855260848999), ('peanut', 0.6420576572418213), ('pecan', 0.6349173188209534), ('cashew', 0.6294420957565308), ('papaya', 0.6246591210365295)]\n",
            "australian\n",
            "longest\n",
            "cereal\n"
          ]
        },
        {
          "output_type": "stream",
          "name": "stderr",
          "text": [
            "/usr/local/lib/python3.7/dist-packages/gensim/models/keyedvectors.py:895: FutureWarning: arrays to stack must be passed as a \"sequence\" type such as list or tuple. Support for non-sequence iterables such as generators is deprecated as of NumPy 1.16 and will raise an error in the future.\n",
            "  vectors = vstack(self.word_vec(word, use_norm=True) for word in used_words).astype(REAL)\n"
          ]
        },
        {
          "output_type": "display_data",
          "data": {
            "image/png": "[encoded data removed]",
            "text/plain": [
              "<Figure size 432x432 with 1 Axes>"
            ]
          },
          "metadata": {
            "needs_background": "light"
          }
        }
      ]
    }
  ]
}