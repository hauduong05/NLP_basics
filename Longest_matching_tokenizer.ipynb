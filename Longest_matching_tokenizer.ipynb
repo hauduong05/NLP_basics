{
  "nbformat": 4,
  "nbformat_minor": 0,
  "metadata": {
    "colab": {
      "name": "Longest_matching_tokenizer.ipynb",
      "provenance": [],
      "authorship_tag": "ABX9TyPn3oR2o+reofp+CbomTF/e",
      "include_colab_link": true
    },
    "kernelspec": {
      "name": "python3",
      "display_name": "Python 3"
    },
    "accelerator": "GPU"
  },
  "cells": [
    {
      "cell_type": "markdown",
      "metadata": {
        "id": "view-in-github",
        "colab_type": "text"
      },
      "source": [
        "<a href=\"https://colab.research.google.com/github/hauduong05/NLP_basics/blob/main/Longest_matching_tokenizer.ipynb\" target=\"_parent\"><img src=\"https://colab.research.google.com/assets/colab-badge.svg\" alt=\"Open In Colab\"/></a>"
      ]
    },
    {
      "cell_type": "code",
      "metadata": {
        "id": "hIh-SBrzV6wO"
      },
      "source": [
        "from google.colab import drive\n",
        "drive.mount('/content/drive')"
      ],
      "execution_count": null,
      "outputs": []
    },
    {
      "cell_type": "code",
      "metadata": {
        "colab": {
          "base_uri": "https://localhost:8080/"
        },
        "id": "X_C-XHuRWdyv",
        "outputId": "06e284fb-a1c6-43c2-ff94-d8e9525a6bde"
      },
      "source": [
        "cd /content/drive/MyDrive/datasets/"
      ],
      "execution_count": 3,
      "outputs": [
        {
          "output_type": "stream",
          "name": "stdout",
          "text": [
            "/content/drive/MyDrive/datasets\n"
          ]
        }
      ]
    },
    {
      "cell_type": "code",
      "metadata": {
        "id": "JWNWoo1ujhEn"
      },
      "source": [
        "def long_matching_tokenize(text, dic):\n",
        "    word_lst = text.split()\n",
        "    n = len(word_lst)\n",
        "    words = []\n",
        "    s = 0\n",
        "\n",
        "    while s < n:\n",
        "        e = n\n",
        "        word_check = \" \".join(word_lst[s:e])\n",
        "        while word_check.lower() not in dic:\n",
        "            e -= 1\n",
        "            word_check = \" \".join(word_lst[s:e])\n",
        "        words.append(word_check)\n",
        "        s = e\n",
        "    return words"
      ],
      "execution_count": 4,
      "outputs": []
    },
    {
      "cell_type": "code",
      "metadata": {
        "colab": {
          "base_uri": "https://localhost:8080/"
        },
        "id": "eiurCVLpV3FX",
        "outputId": "77116291-817e-4707-80df-82793594efee"
      },
      "source": [
        "f = open('Viet74K.txt', encoding='utf-8')\n",
        "words_dict = []\n",
        "for line in f:\n",
        "    words_dict.append(line.strip())\n",
        "\n",
        "if __name__ == '__main__':\n",
        "    text = 'trường đại học bách khoa hà nội'\n",
        "    word_tokenize = long_matching_tokenize(text, words_dict)\n",
        "    print(word_tokenize)\n"
      ],
      "execution_count": 5,
      "outputs": [
        {
          "output_type": "stream",
          "name": "stdout",
          "text": [
            "['trường', 'đại học', 'bách khoa', 'hà', 'nội']\n"
          ]
        }
      ]
    }
  ]
}